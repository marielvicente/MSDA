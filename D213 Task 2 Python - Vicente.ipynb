{
 "cells": [
  {
   "cell_type": "markdown",
   "id": "b779a85b-c95e-43db-9418-e51bf768addd",
   "metadata": {},
   "source": [
    "Mariel Vicente\n",
    "\n",
    "D213: Advanced Data Analytics\n",
    "\n",
    "<center> \n",
    "\n",
    "## Performance Assessment: Task 2\n",
    "\n",
    "</center>\n",
    "\n",
    "\n",
    "### Part I: Research Question\n",
    "My research question for this performance assessment is, “Can the sentiment of a customer's review be determined using sentiment analysis?” The goal of this analysis is to build a neural network model using natural language processing (NLP) techniques to accurately identify customer sentiments based on text reviews. This includes cleaning the data set by removing unwanted characters and words, performing tokenization and lemmatization, splitting the data into training and testing sets, and padding the sequences to improve model efficiency. I will explore different model parameters such as early stopping to determine the best fit. The model will be evaluated using accuracy and loss metrics to answer my research question. A recurrent neural network (RNN) is capable of performing a text classification task that can be trained to produce useful predictions on text sequences on the selected data set.\n",
    "\n",
    "### Part II: Data Preparation\n",
    "I began the data cleaning process by importing all three text files and concatenating them. I explored the data using the shape, info, head, and describe functions. I assessed the data for nulls and NaNs and none were found. I then calculated and plotted the number of positive vs. negative sentiments."
   ]
  },
  {
   "cell_type": "code",
   "execution_count": 1,
   "id": "31649a52-b775-44a2-b7d6-655caf159cf0",
   "metadata": {},
   "outputs": [],
   "source": [
    "#Import necessary packages\n",
    "import numpy as np\n",
    "import pandas as pd\n",
    "import string\n",
    "import re\n",
    "from pandas import Series, DataFrame\n",
    "\n",
    "#Data visualizations\n",
    "import matplotlib.pyplot as plt\n",
    "%matplotlib inline \n",
    "import seaborn as sns\n",
    "\n",
    "#Ignore warnings\n",
    "import warnings\n",
    "warnings.filterwarnings('ignore')\n",
    "\n",
    "from sklearn.model_selection import train_test_split #split into train/test sets\n",
    "\n",
    "#Natural language toolkit\n",
    "import nltk\n",
    "from nltk.corpus import stopwords\n",
    "from nltk.tokenize import word_tokenize\n",
    "from nltk.stem import WordNetLemmatizer\n",
    "\n",
    "#TensorFlow\n",
    "import tensorflow as tf\n",
    "import keras\n",
    "import tensorflow.keras\n",
    "from tensorflow.keras.models import Sequential\n",
    "from tensorflow.keras.preprocessing.text import Tokenizer\n",
    "from tensorflow.keras.preprocessing.sequence import pad_sequences\n",
    "from tensorflow.keras.layers import Embedding\n",
    "from keras.callbacks import EarlyStopping"
   ]
  },
  {
   "cell_type": "code",
   "execution_count": 2,
   "id": "740c63d2-54cb-4b0a-a89e-6a0c4d9adf40",
   "metadata": {},
   "outputs": [],
   "source": [
    "#Import all three files\n",
    "amazon = pd.read_csv('C:/Users/12034/OneDrive/Documents/WGU/amazon_cells_labelled.txt', sep='\\t', header=None, names=['review','sentiment'])\n",
    "imdb = pd.read_csv('C:/Users/12034/OneDrive/Documents/WGU/imdb_labelled.txt', sep='\\t', header=None, names=['review','sentiment'])\n",
    "yelp = pd.read_csv('C:/Users/12034/OneDrive/Documents/WGU/yelp_labelled.txt', sep='\\t', header=None, names=['review','sentiment'])\n",
    "\n",
    "#Concatenate the files together\n",
    "df = pd.concat((amazon, imdb, yelp), ignore_index=True)"
   ]
  },
  {
   "cell_type": "code",
   "execution_count": 3,
   "id": "bf58ece9-3c90-4a8b-a5c9-919b95f51ecc",
   "metadata": {},
   "outputs": [
    {
     "data": {
      "text/plain": [
       "(2748, 2)"
      ]
     },
     "execution_count": 3,
     "metadata": {},
     "output_type": "execute_result"
    }
   ],
   "source": [
    "#Explore the data\n",
    "df.shape"
   ]
  },
  {
   "cell_type": "code",
   "execution_count": 4,
   "id": "8e80b6da-14c1-4701-a9ae-3336e6cdac53",
   "metadata": {},
   "outputs": [
    {
     "name": "stdout",
     "output_type": "stream",
     "text": [
      "<class 'pandas.core.frame.DataFrame'>\n",
      "RangeIndex: 2748 entries, 0 to 2747\n",
      "Data columns (total 2 columns):\n",
      " #   Column     Non-Null Count  Dtype \n",
      "---  ------     --------------  ----- \n",
      " 0   review     2748 non-null   object\n",
      " 1   sentiment  2748 non-null   int64 \n",
      "dtypes: int64(1), object(1)\n",
      "memory usage: 43.1+ KB\n"
     ]
    }
   ],
   "source": [
    "df.info()"
   ]
  },
  {
   "cell_type": "code",
   "execution_count": 5,
   "id": "1a24ac74-515d-418a-a36a-9f4d4216fab4",
   "metadata": {},
   "outputs": [
    {
     "data": {
      "text/html": [
       "<div>\n",
       "<style scoped>\n",
       "    .dataframe tbody tr th:only-of-type {\n",
       "        vertical-align: middle;\n",
       "    }\n",
       "\n",
       "    .dataframe tbody tr th {\n",
       "        vertical-align: top;\n",
       "    }\n",
       "\n",
       "    .dataframe thead th {\n",
       "        text-align: right;\n",
       "    }\n",
       "</style>\n",
       "<table border=\"1\" class=\"dataframe\">\n",
       "  <thead>\n",
       "    <tr style=\"text-align: right;\">\n",
       "      <th></th>\n",
       "      <th>review</th>\n",
       "      <th>sentiment</th>\n",
       "    </tr>\n",
       "  </thead>\n",
       "  <tbody>\n",
       "    <tr>\n",
       "      <th>0</th>\n",
       "      <td>So there is no way for me to plug it in here i...</td>\n",
       "      <td>0</td>\n",
       "    </tr>\n",
       "    <tr>\n",
       "      <th>1</th>\n",
       "      <td>Good case, Excellent value.</td>\n",
       "      <td>1</td>\n",
       "    </tr>\n",
       "    <tr>\n",
       "      <th>2</th>\n",
       "      <td>Great for the jawbone.</td>\n",
       "      <td>1</td>\n",
       "    </tr>\n",
       "    <tr>\n",
       "      <th>3</th>\n",
       "      <td>Tied to charger for conversations lasting more...</td>\n",
       "      <td>0</td>\n",
       "    </tr>\n",
       "    <tr>\n",
       "      <th>4</th>\n",
       "      <td>The mic is great.</td>\n",
       "      <td>1</td>\n",
       "    </tr>\n",
       "  </tbody>\n",
       "</table>\n",
       "</div>"
      ],
      "text/plain": [
       "                                              review  sentiment\n",
       "0  So there is no way for me to plug it in here i...          0\n",
       "1                        Good case, Excellent value.          1\n",
       "2                             Great for the jawbone.          1\n",
       "3  Tied to charger for conversations lasting more...          0\n",
       "4                                  The mic is great.          1"
      ]
     },
     "execution_count": 5,
     "metadata": {},
     "output_type": "execute_result"
    }
   ],
   "source": [
    "df.head()"
   ]
  },
  {
   "cell_type": "code",
   "execution_count": 6,
   "id": "cb4e4bc1-c507-4621-9343-2da61ed8ff44",
   "metadata": {},
   "outputs": [
    {
     "data": {
      "text/html": [
       "<div>\n",
       "<style scoped>\n",
       "    .dataframe tbody tr th:only-of-type {\n",
       "        vertical-align: middle;\n",
       "    }\n",
       "\n",
       "    .dataframe tbody tr th {\n",
       "        vertical-align: top;\n",
       "    }\n",
       "\n",
       "    .dataframe thead th {\n",
       "        text-align: right;\n",
       "    }\n",
       "</style>\n",
       "<table border=\"1\" class=\"dataframe\">\n",
       "  <thead>\n",
       "    <tr style=\"text-align: right;\">\n",
       "      <th></th>\n",
       "      <th>sentiment</th>\n",
       "    </tr>\n",
       "  </thead>\n",
       "  <tbody>\n",
       "    <tr>\n",
       "      <th>count</th>\n",
       "      <td>2748.000000</td>\n",
       "    </tr>\n",
       "    <tr>\n",
       "      <th>mean</th>\n",
       "      <td>0.504367</td>\n",
       "    </tr>\n",
       "    <tr>\n",
       "      <th>std</th>\n",
       "      <td>0.500072</td>\n",
       "    </tr>\n",
       "    <tr>\n",
       "      <th>min</th>\n",
       "      <td>0.000000</td>\n",
       "    </tr>\n",
       "    <tr>\n",
       "      <th>25%</th>\n",
       "      <td>0.000000</td>\n",
       "    </tr>\n",
       "    <tr>\n",
       "      <th>50%</th>\n",
       "      <td>1.000000</td>\n",
       "    </tr>\n",
       "    <tr>\n",
       "      <th>75%</th>\n",
       "      <td>1.000000</td>\n",
       "    </tr>\n",
       "    <tr>\n",
       "      <th>max</th>\n",
       "      <td>1.000000</td>\n",
       "    </tr>\n",
       "  </tbody>\n",
       "</table>\n",
       "</div>"
      ],
      "text/plain": [
       "         sentiment\n",
       "count  2748.000000\n",
       "mean      0.504367\n",
       "std       0.500072\n",
       "min       0.000000\n",
       "25%       0.000000\n",
       "50%       1.000000\n",
       "75%       1.000000\n",
       "max       1.000000"
      ]
     },
     "execution_count": 6,
     "metadata": {},
     "output_type": "execute_result"
    }
   ],
   "source": [
    "df.describe()"
   ]
  },
  {
   "cell_type": "code",
   "execution_count": 7,
   "id": "f08925b7-23fc-46a6-98ab-27602ec7ce21",
   "metadata": {},
   "outputs": [
    {
     "data": {
      "text/plain": [
       "review       False\n",
       "sentiment    False\n",
       "dtype: bool"
      ]
     },
     "execution_count": 7,
     "metadata": {},
     "output_type": "execute_result"
    }
   ],
   "source": [
    "#Assess for nulls\n",
    "df.isnull().any()"
   ]
  },
  {
   "cell_type": "code",
   "execution_count": 8,
   "id": "c9b1174a-2031-41a9-94a1-49ef71f6ff8a",
   "metadata": {},
   "outputs": [
    {
     "data": {
      "text/plain": [
       "review       0\n",
       "sentiment    0\n",
       "dtype: int64"
      ]
     },
     "execution_count": 8,
     "metadata": {},
     "output_type": "execute_result"
    }
   ],
   "source": [
    "#Assess for NaNs\n",
    "df.isna().sum()"
   ]
  },
  {
   "cell_type": "code",
   "execution_count": 9,
   "id": "4d53be64-d8e1-4859-a895-22ab7895b110",
   "metadata": {},
   "outputs": [
    {
     "data": {
      "text/plain": [
       "sentiment\n",
       "1    1386\n",
       "0    1362\n",
       "Name: count, dtype: int64"
      ]
     },
     "execution_count": 9,
     "metadata": {},
     "output_type": "execute_result"
    }
   ],
   "source": [
    "#Calculate number of positive and negative sentiments\n",
    "df.sentiment.value_counts()"
   ]
  },
  {
   "cell_type": "code",
   "execution_count": 10,
   "id": "0b8c210d-7159-448b-bf94-77b3a966cc14",
   "metadata": {},
   "outputs": [
    {
     "data": {
      "text/plain": [
       "<Axes: xlabel='sentiment', ylabel='count'>"
      ]
     },
     "execution_count": 10,
     "metadata": {},
     "output_type": "execute_result"
    },
    {
     "data": {
      "image/png": "[encoded data removed]",
      "text/plain": [
       "<Figure size 640x480 with 1 Axes>"
      ]
     },
     "metadata": {},
     "output_type": "display_data"
    }
   ],
   "source": [
    "#Plot distribution of sentiments\n",
    "sns.countplot(x='sentiment', data=df)"
   ]
  },
  {
   "cell_type": "markdown",
   "id": "daba28c3-c250-4bb1-be00-fe2aa8344e20",
   "metadata": {},
   "source": [
    "Next, I used regular expression to substitute any unusual characters that were not letters in the alphabet with a space. I also converted all letters to lowercase. These are done to clean the text and improve model performance by making the data easier for the model to process. I performed tokenization using the word_tokenize function from the natural language toolkit (nltk). Tokenization is the process of breaking down text into smaller units called tokens. In this instance, we are breaking down sentences into individual words. This transforms the text so that our algorithm can process and utilize it. I removed the stop words from the text and performed lemmatization, which is the process of reducing words to their base form."
   ]
  },
  {
   "cell_type": "code",
   "execution_count": 11,
   "id": "d9df999f-2b63-4334-a65e-440f6ca69dc7",
   "metadata": {},
   "outputs": [],
   "source": [
    "description_list = []\n",
    "stop_words = set(stopwords.words('english'))\n",
    "lemma = WordNetLemmatizer()\n",
    "\n",
    "for description in df['review']:\n",
    "    #Regular expression, removes punctuations and special characters\n",
    "    description = re.sub(r\"[^a-zA-Z]\", \" \", description)\n",
    "    #Convert to lowercase\n",
    "    description = description.lower()\n",
    "    #Perform tokenization\n",
    "    words = word_tokenize(description)\n",
    "    #Remove stop words and perform lemmatization\n",
    "    description = [lemma.lemmatize(word) for word in words if word not in stop_words]\n",
    "    description = \" \".join(description)\n",
    "    #Append the cleaned description to the list\n",
    "    description_list.append(description)"
   ]
  },
  {
   "cell_type": "markdown",
   "id": "f3c771d8-1b03-461f-94a7-91d36ee12db2",
   "metadata": {},
   "source": [
    "In order to determine the vocabulary size, I used the Tokenizer package to map each unique word in the review column to a unique integer index using the fit_on_texts and word_index functions. I then calculated the number of unique integers, and the vocabulary size was measured as 5272."
   ]
  },
  {
   "cell_type": "code",
   "execution_count": 12,
   "id": "3997b931-f563-4758-abc7-b2fe237cb7c1",
   "metadata": {},
   "outputs": [
    {
     "name": "stdout",
     "output_type": "stream",
     "text": [
      "Vocabulary Size:  5272\n"
     ]
    }
   ],
   "source": [
    "#Identify vocabulary size\n",
    "tokenizer = Tokenizer()\n",
    "tokenizer.fit_on_texts(df['review'])\n",
    "vocab_size = len(tokenizer.word_index) + 1\n",
    "print(\"Vocabulary Size: \", vocab_size)"
   ]
  },
  {
   "cell_type": "markdown",
   "id": "911a3396-af03-43b4-b548-274940a5f66e",
   "metadata": {},
   "source": [
    "I determined the minimum, median, and maximum lengths of the sequences using the NumPy package. The max was measured as 1393. This felt high for padding purposes, so I chose to calculate the maximum length in the 95th percentile. This ensures that 95% of reviews have a length that falls within the min to max range while minimizing excessive padding. The maximum length was measured to be 26. To determine the word embedding length, I calculated the fourth root of the vocabulary size, which was measured to be 9. This calculation method is considered a general shortcut that can provide a starting point for model experimentation."
   ]
  },
  {
   "cell_type": "code",
   "execution_count": 13,
   "id": "ca99bf35-c22e-463e-98d8-0a900b64f847",
   "metadata": {},
   "outputs": [
    {
     "name": "stdout",
     "output_type": "stream",
     "text": [
      "Minimum length of sequences is:  1\n",
      "Median length of sequences is:  11.0\n",
      "Maximum length of sequences is:  1393\n"
     ]
    }
   ],
   "source": [
    "#Determine min, med, and max lengths of reviews\n",
    "review_length = []\n",
    "for char_len in df['review']:\n",
    "    review_length.append(len(char_len.split(\" \")))\n",
    "\n",
    "review_min = np.min(review_length)\n",
    "review_med = np.median(review_length)\n",
    "review_max = np.max(review_length)\n",
    "print(\"Minimum length of sequences is: \", review_min)\n",
    "print(\"Median length of sequences is: \", review_med)\n",
    "print(\"Maximum length of sequences is: \", review_max)"
   ]
  },
  {
   "cell_type": "code",
   "execution_count": 14,
   "id": "468ee265-1ecd-4ffd-bc8c-cdef3ba48966",
   "metadata": {},
   "outputs": [
    {
     "name": "stdout",
     "output_type": "stream",
     "text": [
      "26\n"
     ]
    }
   ],
   "source": [
    "#Determine max in the 95th percentile\n",
    "max_length = int(np.percentile(review_length, 95))\n",
    "print(max_length)"
   ]
  },
  {
   "cell_type": "code",
   "execution_count": 15,
   "id": "9a7adb43-cf1f-488b-88e6-ea544f7057d8",
   "metadata": {},
   "outputs": [
    {
     "name": "stdout",
     "output_type": "stream",
     "text": [
      "9\n"
     ]
    }
   ],
   "source": [
    "#Determine word embedding length\n",
    "max_sequence_embedding = int(round(np.sqrt(np.sqrt(vocab_size)), 0))\n",
    "print(max_sequence_embedding)"
   ]
  },
  {
   "cell_type": "markdown",
   "id": "4815c318-3f8e-48ad-8538-bd926bee91a0",
   "metadata": {},
   "source": [
    "I split the data 80/20 into training and test sets. The training size was 2198 and the testing size was 550. I then applied padding to x_train and x_test using the pad_sequences function. Padding is the process of adding zeroes to sequences so that each sequence in the data set has the same length. I set the padding parameters to 'padding=post', which adds the zeroes to the end of the sequence, and 'truncating=post', which truncates the end of any sequences that are longer than my chosen maximum sequence length of 26. Since y_train & y_test are single values, they did not need to be padded. Padding the sequences maintains uniformity for the neural network model. See below for single padded sequence. Once both sets were padded, I exported the sets to csv files and converted each to a numpy array for use in the model."
   ]
  },
  {
   "cell_type": "code",
   "execution_count": 16,
   "id": "37414a42-c230-4b4a-bd6d-54f4eacc7b7a",
   "metadata": {},
   "outputs": [
    {
     "name": "stdout",
     "output_type": "stream",
     "text": [
      "Training Size:  (2198,)\n",
      "Testing Size:  (550,)\n"
     ]
    }
   ],
   "source": [
    "#Split the data into training and test sets\n",
    "X = np.array(description_list)\n",
    "Y = df.sentiment.values\n",
    "\n",
    "x_train, x_test, y_train, y_test = train_test_split(X, Y, test_size=0.2, random_state=42, stratify=Y)\n",
    "\n",
    "y_train = pd.Series(y_train)\n",
    "y_test = pd.Series(y_test)\n",
    "\n",
    "#View training and testing sample sizes\n",
    "print(\"Training Size: \", x_train.shape)\n",
    "print(\"Testing Size: \", x_test.shape)"
   ]
  },
  {
   "cell_type": "code",
   "execution_count": 17,
   "id": "4891bfe2-6e2d-4206-a181-ba38ae4bc97d",
   "metadata": {},
   "outputs": [
    {
     "name": "stdout",
     "output_type": "stream",
     "text": [
      "[ 165 2104 4370 1920 4369 2098 2105 1656  208   53  685  203   89 2018\n",
      "  208 4370  378 2106 2107 1195    0    0    0    0    0    0]\n"
     ]
    }
   ],
   "source": [
    "#Apply padding to training set\n",
    "sequences_train = tokenizer.texts_to_sequences(x_train)\n",
    "padded_train = pad_sequences(sequences_train, maxlen=max_length, padding='post', truncating='post')\n",
    "\n",
    "#Apply padding to test set\n",
    "sequences_test = tokenizer.texts_to_sequences(x_test)\n",
    "padded_test = pad_sequences(sequences_test, maxlen=max_length, padding='post', truncating='post')\n",
    "\n",
    "#Display single padded sequence\n",
    "print(padded_train[0])"
   ]
  },
  {
   "cell_type": "code",
   "execution_count": 18,
   "id": "35798f0e-4778-4206-aa93-51ef6d3ec367",
   "metadata": {},
   "outputs": [
    {
     "name": "stdout",
     "output_type": "stream",
     "text": [
      "2198\n",
      "2198\n",
      "550\n",
      "550\n"
     ]
    }
   ],
   "source": [
    "#Export data to csv\n",
    "pd.DataFrame(padded_train).to_csv('C:/Users/12034/OneDrive/Documents/WGU/D213_T2_MV_padded_train.csv')\n",
    "pd.DataFrame(y_train).to_csv('C:/Users/12034/OneDrive/Documents/WGU/D213_T2_MV_y_train.csv')\n",
    "pd.DataFrame(padded_test).to_csv('C:/Users/12034/OneDrive/Documents/WGU/D213_T2_MV_padded_test.csv')\n",
    "pd.DataFrame(y_test).to_csv('C:/Users/12034/OneDrive/Documents/WGU/D213_T2_MV_y_test.csv')\n",
    "\n",
    "print(len(padded_train))\n",
    "print(len(y_train))\n",
    "print(len(padded_test))\n",
    "print(len(y_test))"
   ]
  },
  {
   "cell_type": "code",
   "execution_count": 19,
   "id": "05ae6e91-8b94-4995-95c3-19fb174ca3b5",
   "metadata": {},
   "outputs": [],
   "source": [
    "#Convert padded data to numpy array to be used in model\n",
    "training_padded = np.array(padded_train)\n",
    "training_label = np.array(y_train)\n",
    "test_padded = np.array(padded_test)\n",
    "test_label = np.array(y_test)"
   ]
  },
  {
   "cell_type": "markdown",
   "id": "e71c50c1-55b3-4004-8816-38da50133189",
   "metadata": {},
   "source": [
    "My neural network model contains five layers. The first layer of my model is an embedding layer using the Embedding package, which converts word indices into dense vectors. The GlobalAveragePooling1D layer reduces dimensionality by calculating the average accross all steps in the sequence. Next are two dense layers with 100 and 50 nodes, using the ReLU activation function, which are hidden layers that process that features of the input data. Last is the output dense layer with 1 node, using the sigmoid activation function for binary classification. \n",
    "\n",
    "The loss function used for the model was binary crossentropy, which is appropriate for our model since we have two categories of sentiment (0/1, positive and negative). The optimizer used was adam, which is standard for binary classification. Training was set to a maximum of 20 epochs, which was subject to the stopping criteria. The EarlyStopping function was used to prevent overfitting by stopping training if there is no improvement in the validation loss for two consecutive epochs (patience=2). The evaluation metric used during training was accuracy.  The total number of parameters for the model was 273,801. \n",
    "\n",
    "See below for output of the model summary and final training epoch. "
   ]
  },
  {
   "cell_type": "code",
   "execution_count": 20,
   "id": "1788727d-27ce-4eb8-b4ee-0d0f7200d971",
   "metadata": {},
   "outputs": [
    {
     "data": {
      "text/html": [
       "<pre style=\"white-space:pre;overflow-x:auto;line-height:normal;font-family:Menlo,'DejaVu Sans Mono',consolas,'Courier New',monospace\"><span style=\"font-weight: bold\">Model: \"sequential\"</span>\n",
       "</pre>\n"
      ],
      "text/plain": [
       "\u001b[1mModel: \"sequential\"\u001b[0m\n"
      ]
     },
     "metadata": {},
     "output_type": "display_data"
    },
    {
     "data": {
      "text/html": [
       "<pre style=\"white-space:pre;overflow-x:auto;line-height:normal;font-family:Menlo,'DejaVu Sans Mono',consolas,'Courier New',monospace\">┏━━━━━━━━━━━━━━━━━━━━━━━━━━━━━━━━━┳━━━━━━━━━━━━━━━━━━━━━━━━┳━━━━━━━━━━━━━━━┓\n",
       "┃<span style=\"font-weight: bold\"> Layer (type)                    </span>┃<span style=\"font-weight: bold\"> Output Shape           </span>┃<span style=\"font-weight: bold\">       Param # </span>┃\n",
       "┡━━━━━━━━━━━━━━━━━━━━━━━━━━━━━━━━━╇━━━━━━━━━━━━━━━━━━━━━━━━╇━━━━━━━━━━━━━━━┩\n",
       "│ embedding (<span style=\"color: #0087ff; text-decoration-color: #0087ff\">Embedding</span>)           │ (<span style=\"color: #00d7ff; text-decoration-color: #00d7ff\">None</span>, <span style=\"color: #00af00; text-decoration-color: #00af00\">26</span>, <span style=\"color: #00af00; text-decoration-color: #00af00\">50</span>)         │       <span style=\"color: #00af00; text-decoration-color: #00af00\">263,600</span> │\n",
       "├─────────────────────────────────┼────────────────────────┼───────────────┤\n",
       "│ global_average_pooling1d        │ (<span style=\"color: #00d7ff; text-decoration-color: #00d7ff\">None</span>, <span style=\"color: #00af00; text-decoration-color: #00af00\">50</span>)             │             <span style=\"color: #00af00; text-decoration-color: #00af00\">0</span> │\n",
       "│ (<span style=\"color: #0087ff; text-decoration-color: #0087ff\">GlobalAveragePooling1D</span>)        │                        │               │\n",
       "├─────────────────────────────────┼────────────────────────┼───────────────┤\n",
       "│ dense (<span style=\"color: #0087ff; text-decoration-color: #0087ff\">Dense</span>)                   │ (<span style=\"color: #00d7ff; text-decoration-color: #00d7ff\">None</span>, <span style=\"color: #00af00; text-decoration-color: #00af00\">100</span>)            │         <span style=\"color: #00af00; text-decoration-color: #00af00\">5,100</span> │\n",
       "├─────────────────────────────────┼────────────────────────┼───────────────┤\n",
       "│ dense_1 (<span style=\"color: #0087ff; text-decoration-color: #0087ff\">Dense</span>)                 │ (<span style=\"color: #00d7ff; text-decoration-color: #00d7ff\">None</span>, <span style=\"color: #00af00; text-decoration-color: #00af00\">50</span>)             │         <span style=\"color: #00af00; text-decoration-color: #00af00\">5,050</span> │\n",
       "├─────────────────────────────────┼────────────────────────┼───────────────┤\n",
       "│ dense_2 (<span style=\"color: #0087ff; text-decoration-color: #0087ff\">Dense</span>)                 │ (<span style=\"color: #00d7ff; text-decoration-color: #00d7ff\">None</span>, <span style=\"color: #00af00; text-decoration-color: #00af00\">1</span>)              │            <span style=\"color: #00af00; text-decoration-color: #00af00\">51</span> │\n",
       "└─────────────────────────────────┴────────────────────────┴───────────────┘\n",
       "</pre>\n"
      ],
      "text/plain": [
       "┏━━━━━━━━━━━━━━━━━━━━━━━━━━━━━━━━━┳━━━━━━━━━━━━━━━━━━━━━━━━┳━━━━━━━━━━━━━━━┓\n",
       "┃\u001b[1m \u001b[0m\u001b[1mLayer (type)                   \u001b[0m\u001b[1m \u001b[0m┃\u001b[1m \u001b[0m\u001b[1mOutput Shape          \u001b[0m\u001b[1m \u001b[0m┃\u001b[1m \u001b[0m\u001b[1m      Param #\u001b[0m\u001b[1m \u001b[0m┃\n",
       "┡━━━━━━━━━━━━━━━━━━━━━━━━━━━━━━━━━╇━━━━━━━━━━━━━━━━━━━━━━━━╇━━━━━━━━━━━━━━━┩\n",
       "│ embedding (\u001b[38;5;33mEmbedding\u001b[0m)           │ (\u001b[38;5;45mNone\u001b[0m, \u001b[38;5;34m26\u001b[0m, \u001b[38;5;34m50\u001b[0m)         │       \u001b[38;5;34m263,600\u001b[0m │\n",
       "├─────────────────────────────────┼────────────────────────┼───────────────┤\n",
       "│ global_average_pooling1d        │ (\u001b[38;5;45mNone\u001b[0m, \u001b[38;5;34m50\u001b[0m)             │             \u001b[38;5;34m0\u001b[0m │\n",
       "│ (\u001b[38;5;33mGlobalAveragePooling1D\u001b[0m)        │                        │               │\n",
       "├─────────────────────────────────┼────────────────────────┼───────────────┤\n",
       "│ dense (\u001b[38;5;33mDense\u001b[0m)                   │ (\u001b[38;5;45mNone\u001b[0m, \u001b[38;5;34m100\u001b[0m)            │         \u001b[38;5;34m5,100\u001b[0m │\n",
       "├─────────────────────────────────┼────────────────────────┼───────────────┤\n",
       "│ dense_1 (\u001b[38;5;33mDense\u001b[0m)                 │ (\u001b[38;5;45mNone\u001b[0m, \u001b[38;5;34m50\u001b[0m)             │         \u001b[38;5;34m5,050\u001b[0m │\n",
       "├─────────────────────────────────┼────────────────────────┼───────────────┤\n",
       "│ dense_2 (\u001b[38;5;33mDense\u001b[0m)                 │ (\u001b[38;5;45mNone\u001b[0m, \u001b[38;5;34m1\u001b[0m)              │            \u001b[38;5;34m51\u001b[0m │\n",
       "└─────────────────────────────────┴────────────────────────┴───────────────┘\n"
      ]
     },
     "metadata": {},
     "output_type": "display_data"
    },
    {
     "data": {
      "text/html": [
       "<pre style=\"white-space:pre;overflow-x:auto;line-height:normal;font-family:Menlo,'DejaVu Sans Mono',consolas,'Courier New',monospace\"><span style=\"font-weight: bold\"> Total params: </span><span style=\"color: #00af00; text-decoration-color: #00af00\">273,801</span> (1.04 MB)\n",
       "</pre>\n"
      ],
      "text/plain": [
       "\u001b[1m Total params: \u001b[0m\u001b[38;5;34m273,801\u001b[0m (1.04 MB)\n"
      ]
     },
     "metadata": {},
     "output_type": "display_data"
    },
    {
     "data": {
      "text/html": [
       "<pre style=\"white-space:pre;overflow-x:auto;line-height:normal;font-family:Menlo,'DejaVu Sans Mono',consolas,'Courier New',monospace\"><span style=\"font-weight: bold\"> Trainable params: </span><span style=\"color: #00af00; text-decoration-color: #00af00\">273,801</span> (1.04 MB)\n",
       "</pre>\n"
      ],
      "text/plain": [
       "\u001b[1m Trainable params: \u001b[0m\u001b[38;5;34m273,801\u001b[0m (1.04 MB)\n"
      ]
     },
     "metadata": {},
     "output_type": "display_data"
    },
    {
     "data": {
      "text/html": [
       "<pre style=\"white-space:pre;overflow-x:auto;line-height:normal;font-family:Menlo,'DejaVu Sans Mono',consolas,'Courier New',monospace\"><span style=\"font-weight: bold\"> Non-trainable params: </span><span style=\"color: #00af00; text-decoration-color: #00af00\">0</span> (0.00 B)\n",
       "</pre>\n"
      ],
      "text/plain": [
       "\u001b[1m Non-trainable params: \u001b[0m\u001b[38;5;34m0\u001b[0m (0.00 B)\n"
      ]
     },
     "metadata": {},
     "output_type": "display_data"
    },
    {
     "name": "stdout",
     "output_type": "stream",
     "text": [
      "Epoch 1/20\n",
      "\u001b[1m55/55\u001b[0m \u001b[32m━━━━━━━━━━━━━━━━━━━━\u001b[0m\u001b[37m\u001b[0m \u001b[1m4s\u001b[0m 15ms/step - accuracy: 0.4833 - loss: 0.6936 - val_accuracy: 0.5205 - val_loss: 0.6921\n",
      "Epoch 2/20\n",
      "\u001b[1m55/55\u001b[0m \u001b[32m━━━━━━━━━━━━━━━━━━━━\u001b[0m\u001b[37m\u001b[0m \u001b[1m0s\u001b[0m 7ms/step - accuracy: 0.5354 - loss: 0.6902 - val_accuracy: 0.5659 - val_loss: 0.6738\n",
      "Epoch 3/20\n",
      "\u001b[1m55/55\u001b[0m \u001b[32m━━━━━━━━━━━━━━━━━━━━\u001b[0m\u001b[37m\u001b[0m \u001b[1m0s\u001b[0m 6ms/step - accuracy: 0.7152 - loss: 0.6402 - val_accuracy: 0.7705 - val_loss: 0.5454\n",
      "Epoch 4/20\n",
      "\u001b[1m55/55\u001b[0m \u001b[32m━━━━━━━━━━━━━━━━━━━━\u001b[0m\u001b[37m\u001b[0m \u001b[1m0s\u001b[0m 6ms/step - accuracy: 0.8752 - loss: 0.3970 - val_accuracy: 0.7955 - val_loss: 0.4441\n",
      "Epoch 5/20\n",
      "\u001b[1m55/55\u001b[0m \u001b[32m━━━━━━━━━━━━━━━━━━━━\u001b[0m\u001b[37m\u001b[0m \u001b[1m0s\u001b[0m 6ms/step - accuracy: 0.8964 - loss: 0.2721 - val_accuracy: 0.8000 - val_loss: 0.4252\n",
      "Epoch 6/20\n",
      "\u001b[1m55/55\u001b[0m \u001b[32m━━━━━━━━━━━━━━━━━━━━\u001b[0m\u001b[37m\u001b[0m \u001b[1m1s\u001b[0m 6ms/step - accuracy: 0.9215 - loss: 0.2037 - val_accuracy: 0.8045 - val_loss: 0.4307\n",
      "Epoch 7/20\n",
      "\u001b[1m55/55\u001b[0m \u001b[32m━━━━━━━━━━━━━━━━━━━━\u001b[0m\u001b[37m\u001b[0m \u001b[1m0s\u001b[0m 6ms/step - accuracy: 0.9575 - loss: 0.1316 - val_accuracy: 0.8114 - val_loss: 0.4341\n"
     ]
    }
   ],
   "source": [
    "#Build the NN model\n",
    "activation = 'sigmoid' #transforms output from one layer to another\n",
    "loss = 'binary_crossentropy' #tracks loss percentage\n",
    "optimizer = 'adam'\n",
    "num_epochs = 20\n",
    "\n",
    "#Define early_stopping_monitor\n",
    "early_stopping_monitor = EarlyStopping(patience=2)\n",
    "\n",
    "model = tf.keras.Sequential([\n",
    "    tf.keras.layers.Embedding(input_dim=vocab_size, output_dim=50, input_length=max_length),\n",
    "    tf.keras.layers.GlobalAveragePooling1D(),\n",
    "    tf.keras.layers.Dense(100, activation='relu'),\n",
    "    tf.keras.layers.Dense(50, activation='relu'),\n",
    "    tf.keras.layers.Dense(1, activation=activation)\n",
    "])\n",
    "\n",
    "#Build the model explicitly, then fit the model and obtain output summary\n",
    "model.build(input_shape=(None, max_length))\n",
    "model.compile(loss=loss,optimizer=optimizer,metrics=['accuracy'])\n",
    "model.summary()\n",
    "history = model.fit(training_padded, training_label, batch_size=32, epochs=num_epochs,\n",
    "                    validation_split = 0.2, callbacks=[early_stopping_monitor], verbose=True)"
   ]
  },
  {
   "cell_type": "markdown",
   "id": "58d4d8ea-0404-42a8-9a3b-c4185cd500a5",
   "metadata": {},
   "source": [
    "### Part IV: Model Evaluation\n",
    "\n",
    "While the number of epochs was set to a maximum of 20 epochs, the stopping criteria stopped the model at 7 epochs to prevent overfitting. This suggests that 7 is the optimal number of epochs for our model.\n",
    "\n",
    "Below I evaluated the accuracy and loss of the model based on the training and testing set. For the testing set, the loss was calculated as 0.47 and the accuracy was 0.80. This suggests that the model was able to accuractly predict the sentiment of the test data 80% of the time, which is acceptable. \n",
    "\n",
    "Next I plotted the model's training process, comparing the accuracy to validation accuracy and loss to validation loss for each epoch. Both plots show the training metrics performing well while the validation metrics level off, which indicates overfitting. "
   ]
  },
  {
   "cell_type": "code",
   "execution_count": 21,
   "id": "65c9cf0f-b7e8-41e3-aa09-ab5b0b12f6bd",
   "metadata": {},
   "outputs": [
    {
     "name": "stdout",
     "output_type": "stream",
     "text": [
      "Training Loss:  0.17274218797683716\n",
      "Training Accuracy:  0.9363057613372803\n"
     ]
    }
   ],
   "source": [
    "#Verify model accuracy on training data\n",
    "results = model.evaluate(training_padded, training_label, verbose=0)\n",
    "print('Training Loss: ', results[0])\n",
    "print('Training Accuracy: ', results[1])"
   ]
  },
  {
   "cell_type": "code",
   "execution_count": 22,
   "id": "dc05f5fb-54b1-47bc-a05e-4c05abeb55b1",
   "metadata": {},
   "outputs": [
    {
     "name": "stdout",
     "output_type": "stream",
     "text": [
      "Test Loss:  0.47626253962516785\n",
      "Test Accuracy:  0.800000011920929\n"
     ]
    }
   ],
   "source": [
    "#Verify model accuracy on unseen test data\n",
    "results = model.evaluate(test_padded, test_label, verbose=0)\n",
    "print('Test Loss: ', results[0])\n",
    "print('Test Accuracy: ', results[1])"
   ]
  },
  {
   "cell_type": "code",
   "execution_count": 23,
   "id": "039e6a8a-54a8-48b5-9530-a3c48fce4061",
   "metadata": {},
   "outputs": [
    {
     "data": {
      "image/png": "[encoded data removed]",
      "text/plain": [
       "<Figure size 1200x500 with 2 Axes>"
      ]
     },
     "metadata": {},
     "output_type": "display_data"
    }
   ],
   "source": [
    "#Plot Accuracy & Loss plots\n",
    "\n",
    "df_history = pd.DataFrame(history.history)\n",
    "\n",
    "fig, axes = plt.subplots(1, 2, figsize=(12, 5))\n",
    "sns.lineplot(data=df_history[['accuracy', 'val_accuracy']], ax=axes[0])\n",
    "sns.lineplot(data=df_history[['loss', 'val_loss']], ax=axes[1])\n",
    "axes[0].set_title('Accuracy')\n",
    "axes[1].set_title('Loss')\n",
    "axes[0].set_xlabel('Epochs')\n",
    "axes[1].set_xlabel('Epochs')\n",
    "axes[0].set_ylabel('Percentage')\n",
    "axes[1].set_ylabel('Loss Value')\n",
    "plt.tight_layout()\n",
    "plt.show()"
   ]
  },
  {
   "cell_type": "code",
   "execution_count": 24,
   "id": "d3fb9dbc-1d79-44b6-a382-c426f781a593",
   "metadata": {},
   "outputs": [],
   "source": [
    "#Save the model\n",
    "model.save('C:/Users/12034/OneDrive/Documents/WGU/nn_model.keras')"
   ]
  },
  {
   "cell_type": "markdown",
   "id": "2542d766-7f18-4892-b90b-ad2f6de0af9f",
   "metadata": {},
   "source": [
    "### Part V: Summary and Recommendations\n",
    "\n",
    "While the predictive accuracy of the model based on the testing set was measured to be 79%, the accuracy and loss plots showed signs of overfitting. This means that the model is learning the training data too well and is starting to capture random noise rather than patterns in the input data. I recommend addressing the overfitting by experimenting further with early stopping and other related techniques such as dropout.\n",
    "\n",
    "### Part VI: Reporting\n",
    "\n",
    "#### Sources for Third-Party Code\n",
    "Elleh, Festus. D213 Task 2 Cohort Webinar PPT. Retrieved December 23, 2024.\n",
    "\n",
    "\n",
    "#### Sources\n",
    "\n",
    "Elleh, Festus. D213 Task 2 Cohort Webinar PPT. Retrieved December 23, 2024.\n",
    "\n",
    "Kotzias, D. (2015). Sentiment Labelled Sentences (Dataset). UCI Machine Learning Repository. https://doi.org/10.24432/C5"
   ]
  }
 ],
 "metadata": {
  "kernelspec": {
   "display_name": "Python 3 (ipykernel)",
   "language": "python",
   "name": "python3"
  },
  "language_info": {
   "codemirror_mode": {
    "name": "ipython",
    "version": 3
   },
   "file_extension": ".py",
   "mimetype": "text/x-python",
   "name": "python",
   "nbconvert_exporter": "python",
   "pygments_lexer": "ipython3",
   "version": "3.11.7"
  }
 },
 "nbformat": 4,
 "nbformat_minor": 5
}
