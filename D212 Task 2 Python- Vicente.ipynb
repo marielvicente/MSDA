{
 "cells": [
  {
   "cell_type": "code",
   "execution_count": 1,
   "id": "7ffdfb17-b99d-473f-a9ab-dcca321f49ef",
   "metadata": {},
   "outputs": [],
   "source": [
    "#Import necessary packages\n",
    "import pandas as pd #Data Frame, data manipulation\n",
    "import numpy as np #array & numerical manipulation\n",
    "import csv\n",
    "\n",
    "import matplotlib.pyplot as plt #data visualizations\n",
    "import seaborn as sns #data visualizations\n",
    "\n",
    "\n",
    "import sklearn as sk\n",
    "from sklearn.preprocessing import StandardScaler #normalize data using z-score\n",
    "from sklearn.decomposition import PCA #calculate PCA score\n",
    "\n",
    "import warnings #ignore warnings\n",
    "warnings.filterwarnings('ignore')"
   ]
  },
  {
   "cell_type": "code",
   "execution_count": 2,
   "id": "7b59abff-7afd-47a3-9b2d-953c35179808",
   "metadata": {},
   "outputs": [
    {
     "data": {
      "text/plain": [
       "Index(['CaseOrder', 'Customer_id', 'Interaction', 'UID', 'City', 'State',\n",
       "       'County', 'Zip', 'Lat', 'Lng', 'Population', 'Area', 'TimeZone', 'Job',\n",
       "       'Children', 'Age', 'Income', 'Marital', 'Gender', 'ReAdmis',\n",
       "       'VitD_levels', 'Doc_visits', 'Full_meals_eaten', 'vitD_supp',\n",
       "       'Soft_drink', 'Initial_admin', 'HighBlood', 'Stroke',\n",
       "       'Complication_risk', 'Overweight', 'Arthritis', 'Diabetes',\n",
       "       'Hyperlipidemia', 'BackPain', 'Anxiety', 'Allergic_rhinitis',\n",
       "       'Reflux_esophagitis', 'Asthma', 'Services', 'Initial_days',\n",
       "       'TotalCharge', 'Additional_charges', 'Item1', 'Item2', 'Item3', 'Item4',\n",
       "       'Item5', 'Item6', 'Item7', 'Item8'],\n",
       "      dtype='object')"
      ]
     },
     "execution_count": 2,
     "metadata": {},
     "output_type": "execute_result"
    }
   ],
   "source": [
    "# Load the data, keep values of \"NONE\", explore the data\n",
    "data = pd.read_csv('C:/Users/12034/OneDrive/Documents/WGU/D212_medical_raw.csv', keep_default_na=False)\n",
    "data.columns"
   ]
  },
  {
   "cell_type": "code",
   "execution_count": 3,
   "id": "b81aba14-b118-4231-8931-b8c057ec4cdd",
   "metadata": {},
   "outputs": [
    {
     "data": {
      "text/plain": [
       "(10000, 50)"
      ]
     },
     "execution_count": 3,
     "metadata": {},
     "output_type": "execute_result"
    }
   ],
   "source": [
    "data.shape"
   ]
  },
  {
   "cell_type": "code",
   "execution_count": 4,
   "id": "2e56e48f-fd12-4044-9835-09d6479d3098",
   "metadata": {},
   "outputs": [
    {
     "data": {
      "text/plain": [
       "Index(['CaseOrder', 'Zip', 'Lat', 'Lng', 'Population', 'Children', 'Age',\n",
       "       'Income', 'VitD_levels', 'Doc_visits', 'Full_meals_eaten', 'vitD_supp',\n",
       "       'Initial_days', 'TotalCharge', 'Additional_charges', 'Item1', 'Item2',\n",
       "       'Item3', 'Item4', 'Item5', 'Item6', 'Item7', 'Item8'],\n",
       "      dtype='object')"
      ]
     },
     "execution_count": 4,
     "metadata": {},
     "output_type": "execute_result"
    }
   ],
   "source": [
    "#Select numerical variables\n",
    "data2 = data.select_dtypes('number')\n",
    "data2.columns"
   ]
  },
  {
   "cell_type": "code",
   "execution_count": 5,
   "id": "087fcef0-21b4-46d3-8ae9-c0e7531d06a5",
   "metadata": {},
   "outputs": [
    {
     "data": {
      "text/plain": [
       "(10000, 23)"
      ]
     },
     "execution_count": 5,
     "metadata": {},
     "output_type": "execute_result"
    }
   ],
   "source": [
    "data2.shape"
   ]
  },
  {
   "cell_type": "code",
   "execution_count": 6,
   "id": "2aeb712e-a44e-4295-88aa-bfdbb42b1847",
   "metadata": {},
   "outputs": [
    {
     "data": {
      "text/plain": [
       "(10000, 5)"
      ]
     },
     "execution_count": 6,
     "metadata": {},
     "output_type": "execute_result"
    }
   ],
   "source": [
    "#Drop discrete numbers\n",
    "cont_df = data2.drop(['CaseOrder', 'Zip', 'Lat', 'Lng', 'Population', 'Children', 'Age', 'Doc_visits', 'Full_meals_eaten', 'vitD_supp', 'Item1', 'Item2', 'Item3', 'Item4', 'Item5', 'Item6', 'Item7', 'Item8',], axis=1)\n",
    "cont_df.shape"
   ]
  },
  {
   "cell_type": "code",
   "execution_count": 7,
   "id": "e506195a-d54b-4ce5-87df-998c68ad0f62",
   "metadata": {},
   "outputs": [
    {
     "data": {
      "text/plain": [
       "Index(['Income', 'VitD_levels', 'Initial_days', 'TotalCharge',\n",
       "       'Additional_charges'],\n",
       "      dtype='object')"
      ]
     },
     "execution_count": 7,
     "metadata": {},
     "output_type": "execute_result"
    }
   ],
   "source": [
    "cont_df.columns"
   ]
  },
  {
   "cell_type": "code",
   "execution_count": 8,
   "id": "45dc6dc5-03f2-440d-b987-bddcbe8e7722",
   "metadata": {},
   "outputs": [],
   "source": [
    "#Normalize the data\n",
    "scaler = StandardScaler()\n",
    "norm_df = scaler.fit_transform(cont_df)"
   ]
  },
  {
   "cell_type": "code",
   "execution_count": 9,
   "id": "214742ac-f697-459e-b9b5-2a3cac3f28b4",
   "metadata": {},
   "outputs": [
    {
     "data": {
      "text/html": [
       "<div>\n",
       "<style scoped>\n",
       "    .dataframe tbody tr th:only-of-type {\n",
       "        vertical-align: middle;\n",
       "    }\n",
       "\n",
       "    .dataframe tbody tr th {\n",
       "        vertical-align: top;\n",
       "    }\n",
       "\n",
       "    .dataframe thead th {\n",
       "        text-align: right;\n",
       "    }\n",
       "</style>\n",
       "<table border=\"1\" class=\"dataframe\">\n",
       "  <thead>\n",
       "    <tr style=\"text-align: right;\">\n",
       "      <th></th>\n",
       "      <th>Income</th>\n",
       "      <th>VitD_levels</th>\n",
       "      <th>Initial_days</th>\n",
       "      <th>TotalCharge</th>\n",
       "      <th>Additional_charges</th>\n",
       "    </tr>\n",
       "  </thead>\n",
       "  <tbody>\n",
       "    <tr>\n",
       "      <th>0</th>\n",
       "      <td>1.615914</td>\n",
       "      <td>0.583603</td>\n",
       "      <td>-0.907310</td>\n",
       "      <td>-0.727185</td>\n",
       "      <td>0.765005</td>\n",
       "    </tr>\n",
       "    <tr>\n",
       "      <th>1</th>\n",
       "      <td>0.221443</td>\n",
       "      <td>0.483901</td>\n",
       "      <td>-0.734595</td>\n",
       "      <td>-0.513228</td>\n",
       "      <td>0.715114</td>\n",
       "    </tr>\n",
       "    <tr>\n",
       "      <th>2</th>\n",
       "      <td>-0.915870</td>\n",
       "      <td>0.046227</td>\n",
       "      <td>-1.128292</td>\n",
       "      <td>-1.319983</td>\n",
       "      <td>0.698635</td>\n",
       "    </tr>\n",
       "    <tr>\n",
       "      <th>3</th>\n",
       "      <td>-0.026263</td>\n",
       "      <td>-0.687811</td>\n",
       "      <td>-1.244503</td>\n",
       "      <td>-1.460517</td>\n",
       "      <td>0.009004</td>\n",
       "    </tr>\n",
       "    <tr>\n",
       "      <th>4</th>\n",
       "      <td>-1.377325</td>\n",
       "      <td>-0.260366</td>\n",
       "      <td>-1.261991</td>\n",
       "      <td>-1.467285</td>\n",
       "      <td>-1.408991</td>\n",
       "    </tr>\n",
       "  </tbody>\n",
       "</table>\n",
       "</div>"
      ],
      "text/plain": [
       "     Income  VitD_levels  Initial_days  TotalCharge  Additional_charges\n",
       "0  1.615914     0.583603     -0.907310    -0.727185            0.765005\n",
       "1  0.221443     0.483901     -0.734595    -0.513228            0.715114\n",
       "2 -0.915870     0.046227     -1.128292    -1.319983            0.698635\n",
       "3 -0.026263    -0.687811     -1.244503    -1.460517            0.009004\n",
       "4 -1.377325    -0.260366     -1.261991    -1.467285           -1.408991"
      ]
     },
     "execution_count": 9,
     "metadata": {},
     "output_type": "execute_result"
    }
   ],
   "source": [
    "scaled_df = pd.DataFrame(norm_df, columns = cont_df.columns)\n",
    "scaled_df.head()"
   ]
  },
  {
   "cell_type": "code",
   "execution_count": 10,
   "id": "398ff92b-58fb-4a02-b480-8839a9bf93d5",
   "metadata": {},
   "outputs": [
    {
     "data": {
      "text/html": [
       "<div>\n",
       "<style scoped>\n",
       "    .dataframe tbody tr th:only-of-type {\n",
       "        vertical-align: middle;\n",
       "    }\n",
       "\n",
       "    .dataframe tbody tr th {\n",
       "        vertical-align: top;\n",
       "    }\n",
       "\n",
       "    .dataframe thead th {\n",
       "        text-align: right;\n",
       "    }\n",
       "</style>\n",
       "<table border=\"1\" class=\"dataframe\">\n",
       "  <thead>\n",
       "    <tr style=\"text-align: right;\">\n",
       "      <th></th>\n",
       "      <th>Income</th>\n",
       "      <th>VitD_levels</th>\n",
       "      <th>Initial_days</th>\n",
       "      <th>TotalCharge</th>\n",
       "      <th>Additional_charges</th>\n",
       "    </tr>\n",
       "  </thead>\n",
       "  <tbody>\n",
       "    <tr>\n",
       "      <th>count</th>\n",
       "      <td>10000.00</td>\n",
       "      <td>10000.00</td>\n",
       "      <td>10000.00</td>\n",
       "      <td>10000.00</td>\n",
       "      <td>10000.00</td>\n",
       "    </tr>\n",
       "    <tr>\n",
       "      <th>mean</th>\n",
       "      <td>0.00</td>\n",
       "      <td>-0.00</td>\n",
       "      <td>-0.00</td>\n",
       "      <td>0.00</td>\n",
       "      <td>-0.00</td>\n",
       "    </tr>\n",
       "    <tr>\n",
       "      <th>std</th>\n",
       "      <td>1.00</td>\n",
       "      <td>1.00</td>\n",
       "      <td>1.00</td>\n",
       "      <td>1.00</td>\n",
       "      <td>1.00</td>\n",
       "    </tr>\n",
       "    <tr>\n",
       "      <th>min</th>\n",
       "      <td>-1.41</td>\n",
       "      <td>-4.04</td>\n",
       "      <td>-1.27</td>\n",
       "      <td>-1.55</td>\n",
       "      <td>-1.50</td>\n",
       "    </tr>\n",
       "    <tr>\n",
       "      <th>25%</th>\n",
       "      <td>-0.73</td>\n",
       "      <td>-0.66</td>\n",
       "      <td>-1.01</td>\n",
       "      <td>-0.98</td>\n",
       "      <td>-0.76</td>\n",
       "    </tr>\n",
       "    <tr>\n",
       "      <th>50%</th>\n",
       "      <td>-0.24</td>\n",
       "      <td>-0.01</td>\n",
       "      <td>0.05</td>\n",
       "      <td>-0.05</td>\n",
       "      <td>-0.21</td>\n",
       "    </tr>\n",
       "    <tr>\n",
       "      <th>75%</th>\n",
       "      <td>0.48</td>\n",
       "      <td>0.69</td>\n",
       "      <td>1.02</td>\n",
       "      <td>0.98</td>\n",
       "      <td>0.41</td>\n",
       "    </tr>\n",
       "    <tr>\n",
       "      <th>max</th>\n",
       "      <td>5.85</td>\n",
       "      <td>4.18</td>\n",
       "      <td>1.43</td>\n",
       "      <td>1.77</td>\n",
       "      <td>2.70</td>\n",
       "    </tr>\n",
       "  </tbody>\n",
       "</table>\n",
       "</div>"
      ],
      "text/plain": [
       "         Income  VitD_levels  Initial_days  TotalCharge  Additional_charges\n",
       "count  10000.00     10000.00      10000.00     10000.00            10000.00\n",
       "mean       0.00        -0.00         -0.00         0.00               -0.00\n",
       "std        1.00         1.00          1.00         1.00                1.00\n",
       "min       -1.41        -4.04         -1.27        -1.55               -1.50\n",
       "25%       -0.73        -0.66         -1.01        -0.98               -0.76\n",
       "50%       -0.24        -0.01          0.05        -0.05               -0.21\n",
       "75%        0.48         0.69          1.02         0.98                0.41\n",
       "max        5.85         4.18          1.43         1.77                2.70"
      ]
     },
     "execution_count": 10,
     "metadata": {},
     "output_type": "execute_result"
    }
   ],
   "source": [
    "#Confirm data is scaled, mean = 0 and std = 1\n",
    "scaled_df.describe().round(2)"
   ]
  },
  {
   "cell_type": "code",
   "execution_count": 11,
   "id": "f1885bff-7e69-45f2-98df-206862858e34",
   "metadata": {},
   "outputs": [
    {
     "data": {
      "text/plain": [
       "(10000, 5)"
      ]
     },
     "execution_count": 11,
     "metadata": {},
     "output_type": "execute_result"
    }
   ],
   "source": [
    "scaled_df.shape"
   ]
  },
  {
   "cell_type": "code",
   "execution_count": 12,
   "id": "dc4797f8-2a68-42da-b1b5-d493f9a2c29a",
   "metadata": {},
   "outputs": [],
   "source": [
    "#Save output to csv file\n",
    "scaled_df.to_csv('C:/Users/12034/OneDrive/Documents/WGU/D212_T2_MV_med_clean.csv')"
   ]
  },
  {
   "cell_type": "code",
   "execution_count": 13,
   "id": "17cfb950-11b7-42e0-9965-93bf1447f837",
   "metadata": {},
   "outputs": [],
   "source": [
    "#Create PCA object\n",
    "pca = PCA()"
   ]
  },
  {
   "cell_type": "code",
   "execution_count": 14,
   "id": "cc45122d-1878-467c-8109-ded4a3256602",
   "metadata": {},
   "outputs": [],
   "source": [
    "#Create df where PCA is fit on normalized data\n",
    "PC = pca.fit_transform(scaled_df)"
   ]
  },
  {
   "cell_type": "code",
   "execution_count": 15,
   "id": "53b5b3ad-b96d-4048-b038-1bfae85c3f58",
   "metadata": {},
   "outputs": [
    {
     "data": {
      "text/html": [
       "<div>\n",
       "<style scoped>\n",
       "    .dataframe tbody tr th:only-of-type {\n",
       "        vertical-align: middle;\n",
       "    }\n",
       "\n",
       "    .dataframe tbody tr th {\n",
       "        vertical-align: top;\n",
       "    }\n",
       "\n",
       "    .dataframe thead th {\n",
       "        text-align: right;\n",
       "    }\n",
       "</style>\n",
       "<table border=\"1\" class=\"dataframe\">\n",
       "  <thead>\n",
       "    <tr style=\"text-align: right;\">\n",
       "      <th></th>\n",
       "      <th>Income</th>\n",
       "      <th>VitD_levels</th>\n",
       "      <th>Initial_days</th>\n",
       "      <th>TotalCharge</th>\n",
       "      <th>Additional_charges</th>\n",
       "    </tr>\n",
       "  </thead>\n",
       "  <tbody>\n",
       "    <tr>\n",
       "      <th>PC1</th>\n",
       "      <td>-0.019366</td>\n",
       "      <td>-0.003146</td>\n",
       "      <td>0.706603</td>\n",
       "      <td>0.706923</td>\n",
       "      <td>0.024238</td>\n",
       "    </tr>\n",
       "    <tr>\n",
       "      <th>PC2</th>\n",
       "      <td>0.609521</td>\n",
       "      <td>-0.601083</td>\n",
       "      <td>0.023465</td>\n",
       "      <td>0.008270</td>\n",
       "      <td>-0.516299</td>\n",
       "    </tr>\n",
       "    <tr>\n",
       "      <th>PC3</th>\n",
       "      <td>0.276692</td>\n",
       "      <td>-0.449571</td>\n",
       "      <td>-0.021756</td>\n",
       "      <td>-0.001785</td>\n",
       "      <td>0.849030</td>\n",
       "    </tr>\n",
       "    <tr>\n",
       "      <th>PC4</th>\n",
       "      <td>0.742664</td>\n",
       "      <td>0.660737</td>\n",
       "      <td>0.008371</td>\n",
       "      <td>0.011213</td>\n",
       "      <td>0.108078</td>\n",
       "    </tr>\n",
       "    <tr>\n",
       "      <th>PC5</th>\n",
       "      <td>0.001154</td>\n",
       "      <td>-0.001437</td>\n",
       "      <td>-0.706837</td>\n",
       "      <td>0.707151</td>\n",
       "      <td>-0.017763</td>\n",
       "    </tr>\n",
       "  </tbody>\n",
       "</table>\n",
       "</div>"
      ],
      "text/plain": [
       "       Income  VitD_levels  Initial_days  TotalCharge  Additional_charges\n",
       "PC1 -0.019366    -0.003146      0.706603     0.706923            0.024238\n",
       "PC2  0.609521    -0.601083      0.023465     0.008270           -0.516299\n",
       "PC3  0.276692    -0.449571     -0.021756    -0.001785            0.849030\n",
       "PC4  0.742664     0.660737      0.008371     0.011213            0.108078\n",
       "PC5  0.001154    -0.001437     -0.706837     0.707151           -0.017763"
      ]
     },
     "execution_count": 15,
     "metadata": {},
     "output_type": "execute_result"
    }
   ],
   "source": [
    "#Create loading matrix\n",
    "loading_matrix = pd.DataFrame(pca.components_, columns = cont_df.columns, index=('PC1', 'PC2', 'PC3', 'PC4', 'PC5'))\n",
    "loading_matrix"
   ]
  },
  {
   "cell_type": "code",
   "execution_count": 16,
   "id": "3c19e391-13ea-45b0-8968-6e19318471a4",
   "metadata": {},
   "outputs": [
    {
     "data": {
      "text/plain": [
       "array([1.98879493, 1.02068334, 0.99233323, 0.98664355, 0.012045  ])"
      ]
     },
     "execution_count": 16,
     "metadata": {},
     "output_type": "execute_result"
    }
   ],
   "source": [
    "#Calculate eigenvalues (explained variance) of all PCs\n",
    "var = pca.explained_variance_\n",
    "var"
   ]
  },
  {
   "cell_type": "code",
   "execution_count": 17,
   "id": "71384580-6e3d-4d69-8535-7b828207a7d1",
   "metadata": {},
   "outputs": [
    {
     "data": {
      "image/png": "[encoded data removed]",
      "text/plain": [
       "<Figure size 640x480 with 1 Axes>"
      ]
     },
     "metadata": {},
     "output_type": "display_data"
    }
   ],
   "source": [
    "# Create numpy array to start index at 1 not 0\n",
    "pcomp = np.arange(pca.n_components_) + 1\n",
    "\n",
    "#Create scree (Kaiser) plot\n",
    "plt.plot(pcomp,\n",
    "         var,\n",
    "         'b')\n",
    "plt.title('Scree Plot (Kaiser Criterion)')\n",
    "plt.xlabel('Number of Component')\n",
    "plt.ylabel('Eigenvalues')\n",
    "plt.axhline(y=1, color=\"red\")\n",
    "plt.grid()\n",
    "plt.show()"
   ]
  },
  {
   "cell_type": "code",
   "execution_count": 18,
   "id": "37bab55f-bf44-42d6-8f26-4203ae8c6278",
   "metadata": {},
   "outputs": [
    {
     "name": "stdout",
     "output_type": "stream",
     "text": [
      "{'PC1': 1, 'PC2': 2}\n"
     ]
    }
   ],
   "source": [
    "#PCs 1-2 meet Kaiser Criterion (eigenvalue >= 1)\n",
    "#Print variance of first 2 PCs\n",
    "print(dict(zip(['PC1', 'PC2'], pcomp)))"
   ]
  },
  {
   "cell_type": "code",
   "execution_count": 19,
   "id": "9373c6f2-49f1-4cc0-ad68-1c9043395a86",
   "metadata": {},
   "outputs": [
    {
     "name": "stdout",
     "output_type": "stream",
     "text": [
      "Variance of the first two principal components:\n",
      "[1.98879493 1.02068334]\n"
     ]
    }
   ],
   "source": [
    "print(\"Variance of the first two principal components:\")\n",
    "print(pca.explained_variance_[:2])"
   ]
  },
  {
   "cell_type": "code",
   "execution_count": 20,
   "id": "8d2780cb-bd5e-48e4-9f99-81e4f3fcae96",
   "metadata": {},
   "outputs": [
    {
     "data": {
      "text/plain": [
       "0.6018354640861932"
      ]
     },
     "execution_count": 20,
     "metadata": {},
     "output_type": "execute_result"
    }
   ],
   "source": [
    "#Calculate total variance of 2 PCs\n",
    "total_variance = np.sum(pca.explained_variance_ratio_[:2])\n",
    "total_variance"
   ]
  }
 ],
 "metadata": {
  "kernelspec": {
   "display_name": "Python 3 (ipykernel)",
   "language": "python",
   "name": "python3"
  },
  "language_info": {
   "codemirror_mode": {
    "name": "ipython",
    "version": 3
   },
   "file_extension": ".py",
   "mimetype": "text/x-python",
   "name": "python",
   "nbconvert_exporter": "python",
   "pygments_lexer": "ipython3",
   "version": "3.11.7"
  }
 },
 "nbformat": 4,
 "nbformat_minor": 5
}
